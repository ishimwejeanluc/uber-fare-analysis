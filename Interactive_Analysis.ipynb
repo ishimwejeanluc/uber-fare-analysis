{
 "cells": [
  {
   "cell_type": "markdown",
   "id": "42953fe1",
   "metadata": {},
   "source": [
    "# Uber Fare Analysis - Interactive Notebook\n",
    "\n",
    "This notebook provides an interactive analysis of Uber fare data with comprehensive visualizations and insights.\n",
    "\n",
    "## Table of Contents\n",
    "1. [Data Loading & Overview](#data-loading)\n",
    "2. [Data Cleaning](#data-cleaning)\n",
    "3. [Exploratory Data Analysis](#eda)\n",
    "4. [Time-based Analysis](#time-analysis)\n",
    "5. [Fare Analysis](#fare-analysis)\n",
    "6. [Geographic Analysis](#geo-analysis)\n",
    "7. [Key Insights & Recommendations](#insights)"
   ]
  },
  {
   "cell_type": "markdown",
   "id": "8edc699e",
   "metadata": {},
   "source": [
    "## 1. Data Loading & Setup <a id=\"data-loading\"></a>"
   ]
  },
  {
   "cell_type": "code",
   "execution_count": null,
   "id": "316fad27",
   "metadata": {},
   "outputs": [
    {
     "name": "stdout",
     "output_type": "stream",
     "text": [
      "Collecting plotly\n",
      "  Using cached plotly-6.3.0-py3-none-any.whl.metadata (8.5 kB)\n",
      "Collecting narwhals>=1.15.1 (from plotly)\n",
      "  Using cached narwhals-2.1.2-py3-none-any.whl.metadata (11 kB)\n",
      "Requirement already satisfied: packaging in /Library/Frameworks/Python.framework/Versions/3.13/lib/python3.13/site-packages (from plotly) (25.0)\n",
      "Collecting narwhals>=1.15.1 (from plotly)\n",
      "  Using cached narwhals-2.1.2-py3-none-any.whl.metadata (11 kB)\n",
      "Requirement already satisfied: packaging in /Library/Frameworks/Python.framework/Versions/3.13/lib/python3.13/site-packages (from plotly) (25.0)\n",
      "Downloading plotly-6.3.0-py3-none-any.whl (9.8 MB)\n",
      "\u001b[?25l   \u001b[90m━━━━━━━━━━━━━━━━━━━━━━━━━━━━━━━━━━━━━━━━\u001b[0m \u001b[32m0.0/9.8 MB\u001b[0m \u001b[31m?\u001b[0m eta \u001b[36m-:--:--\u001b[0mDownloading plotly-6.3.0-py3-none-any.whl (9.8 MB)\n",
      "\u001b[2K   \u001b[90m━━━━━━━━━━━━━━━━━━━━━━━━━━━━━━━━━━━━━━━━\u001b[0m \u001b[32m9.8/9.8 MB\u001b[0m \u001b[31m80.5 kB/s\u001b[0m eta \u001b[36m0:00:00\u001b[0m00:02\u001b[0m00:05\u001b[0mm\n",
      "\u001b[2K   \u001b[90m━━━━━━━━━━━━━━━━━━━━━━━━━━━━━━━━━━━━━━━━\u001b[0m \u001b[32m9.8/9.8 MB\u001b[0m \u001b[31m80.5 kB/s\u001b[0m eta \u001b[36m0:00:00\u001b[0m\n",
      "\u001b[?25hDownloading narwhals-2.1.2-py3-none-any.whl (392 kB)\n",
      "Downloading narwhals-2.1.2-py3-none-any.whl (392 kB)\n",
      "Installing collected packages: narwhals, plotly\n",
      "Installing collected packages: narwhals, plotly\n",
      "^C\n",
      "\u001b[31mERROR: Operation cancelled by user\u001b[0m\u001b[31m\n",
      "\u001b[0m^C\n",
      "\u001b[31mERROR: Operation cancelled by user\u001b[0m\u001b[31m\n",
      "\u001b[0mNote: you may need to restart the kernel to use updated packages.\n",
      "Note: you may need to restart the kernel to use updated packages.\n",
      "📚 Libraries imported successfully!\n",
      "📚 Libraries imported successfully!\n"
     ]
    }
   ],
   "source": [
    "%pip install plotly\n",
    "\n",
    "# Import required libraries\n",
    "import pandas as pd\n",
    "import numpy as np\n",
    "import matplotlib.pyplot as plt\n",
    "import seaborn as sns\n",
    "import plotly.express as px\n",
    "import plotly.graph_objects as go\n",
    "from plotly.subplots import make_subplots\n",
    "import warnings\n",
    "warnings.filterwarnings('ignore')\n",
    "\n",
    "# Set style\n",
    "plt.style.use('seaborn-v0_8')\n",
    "sns.set_palette(\"husl\")\n",
    "\n",
    "# Display settings\n",
    "pd.set_option('display.max_columns', None)\n",
    "pd.set_option('display.width', None)\n",
    "\n",
    "print(\"Libraries imported successfully!\")"
   ]
  },
  {
   "cell_type": "code",
   "execution_count": null,
   "id": "eb2cca36",
   "metadata": {},
   "outputs": [],
   "source": [
    "# Load the enhanced dataset\n",
    "df = pd.read_csv('Data/enhanced/uber_enhanced.csv')\n",
    "\n",
    "# Convert datetime column\n",
    "df['pickup_datetime'] = pd.to_datetime(df['pickup_datetime'])\n",
    "\n",
    "print(f\"Dataset loaded successfully!\")\n",
    "print(f\"Shape: {df.shape}\")\n",
    "print(f\"Columns: {list(df.columns)}\")\n",
    "\n",
    "# Display first few rows\n",
    "df.head()"
   ]
  },
  {
   "cell_type": "markdown",
   "id": "45bcc9a3",
   "metadata": {},
   "source": [
    "## 2. Data Overview <a id=\"data-cleaning\"></a>"
   ]
  },
  {
   "cell_type": "code",
   "execution_count": null,
   "id": "17c6b0d9",
   "metadata": {},
   "outputs": [],
   "source": [
    "# Dataset info\n",
    "print(\"Dataset Information:\")\n",
    "print(\"=\" * 40)\n",
    "df.info()"
   ]
  },
  {
   "cell_type": "code",
   "execution_count": null,
   "id": "c129805a",
   "metadata": {},
   "outputs": [],
   "source": [
    "# Summary statistics\n",
    "print(\"Summary Statistics:\")\n",
    "print(\"=\" * 40)\n",
    "df.describe()"
   ]
  },
  {
   "cell_type": "code",
   "execution_count": null,
   "id": "847f4fbc",
   "metadata": {},
   "outputs": [],
   "source": [
    "# Check for missing values\n",
    "print(\"Missing Values:\")\n",
    "print(\"=\" * 40)\n",
    "missing_values = df.isnull().sum()\n",
    "missing_percentage = (missing_values / len(df)) * 100\n",
    "missing_df = pd.DataFrame({\n",
    "    'Missing Count': missing_values,\n",
    "    'Percentage': missing_percentage\n",
    "})\n",
    "print(missing_df[missing_df['Missing Count'] > 0])"
   ]
  },
  {
   "cell_type": "markdown",
   "id": "d5577545",
   "metadata": {},
   "source": [
    "## 3. Exploratory Data Analysis <a id=\"eda\"></a>"
   ]
  },
  {
   "cell_type": "code",
   "execution_count": null,
   "id": "479e9b3e",
   "metadata": {},
   "outputs": [],
   "source": [
    "# Interactive fare distribution\n",
    "fig = px.histogram(df, x='fare_amount', nbins=50, \n",
    "                   title='Uber Fare Distribution (Interactive)',\n",
    "                   labels={'fare_amount': 'Fare Amount ($)', 'count': 'Frequency'})\n",
    "fig.update_layout(showlegend=False)\n",
    "fig.show()"
   ]
  },
  {
   "cell_type": "code",
   "execution_count": null,
   "id": "b0067675",
   "metadata": {},
   "outputs": [],
   "source": [
    "# Box plot by time category\n",
    "fig = px.box(df, x='time_category', y='fare_amount',\n",
    "             title='Fare Distribution by Time of Day',\n",
    "             labels={'fare_amount': 'Fare Amount ($)', 'time_category': 'Time Category'})\n",
    "fig.show()"
   ]
  },
  {
   "cell_type": "markdown",
   "id": "25457193",
   "metadata": {},
   "source": [
    "## 4. Time-based Analysis <a id=\"time-analysis\"></a>"
   ]
  },
  {
   "cell_type": "code",
   "execution_count": null,
   "id": "8992d85a",
   "metadata": {},
   "outputs": [],
   "source": [
    "# Hourly patterns\n",
    "hourly_stats = df.groupby('hour').agg({\n",
    "    'fare_amount': ['mean', 'count'],\n",
    "    'passenger_count': 'mean'\n",
    "}).round(2)\n",
    "\n",
    "hourly_stats.columns = ['Avg_Fare', 'Ride_Count', 'Avg_Passengers']\n",
    "hourly_stats = hourly_stats.reset_index()\n",
    "\n",
    "# Create subplots\n",
    "fig = make_subplots(\n",
    "    rows=2, cols=2,\n",
    "    subplot_titles=('Average Fare by Hour', 'Number of Rides by Hour',\n",
    "                   'Average Passengers by Hour', 'Combined Metrics'),\n",
    "    specs=[[{\"secondary_y\": False}, {\"secondary_y\": False}],\n",
    "           [{\"secondary_y\": False}, {\"secondary_y\": True}]]\n",
    ")\n",
    "\n",
    "# Average fare by hour\n",
    "fig.add_trace(\n",
    "    go.Scatter(x=hourly_stats['hour'], y=hourly_stats['Avg_Fare'],\n",
    "              mode='lines+markers', name='Avg Fare', line=dict(color='blue')),\n",
    "    row=1, col=1\n",
    ")\n",
    "\n",
    "# Ride count by hour\n",
    "fig.add_trace(\n",
    "    go.Bar(x=hourly_stats['hour'], y=hourly_stats['Ride_Count'],\n",
    "           name='Ride Count', marker_color='orange'),\n",
    "    row=1, col=2\n",
    ")\n",
    "\n",
    "# Average passengers by hour\n",
    "fig.add_trace(\n",
    "    go.Scatter(x=hourly_stats['hour'], y=hourly_stats['Avg_Passengers'],\n",
    "              mode='lines+markers', name='Avg Passengers', line=dict(color='green')),\n",
    "    row=2, col=1\n",
    ")\n",
    "\n",
    "# Combined metrics\n",
    "fig.add_trace(\n",
    "    go.Scatter(x=hourly_stats['hour'], y=hourly_stats['Avg_Fare'],\n",
    "              mode='lines+markers', name='Avg Fare', line=dict(color='blue')),\n",
    "    row=2, col=2\n",
    ")\n",
    "\n",
    "fig.add_trace(\n",
    "    go.Scatter(x=hourly_stats['hour'], y=hourly_stats['Ride_Count']/1000,\n",
    "              mode='lines+markers', name='Ride Count (k)', \n",
    "              line=dict(color='red'), yaxis='y2'),\n",
    "    row=2, col=2, secondary_y=True\n",
    ")\n",
    "\n",
    "fig.update_layout(height=600, title_text=\"Hourly Analysis Dashboard\")\n",
    "fig.show()"
   ]
  },
  {
   "cell_type": "code",
   "execution_count": null,
   "id": "c81e5987",
   "metadata": {},
   "outputs": [],
   "source": [
    "# Weekly patterns\n",
    "weekday_order = ['Monday', 'Tuesday', 'Wednesday', 'Thursday', 'Friday', 'Saturday', 'Sunday']\n",
    "weekly_stats = df.groupby('weekday').agg({\n",
    "    'fare_amount': ['mean', 'count']\n",
    "}).round(2)\n",
    "\n",
    "weekly_stats.columns = ['Avg_Fare', 'Ride_Count']\n",
    "weekly_stats = weekly_stats.reindex(weekday_order)\n",
    "\n",
    "# Interactive weekly analysis\n",
    "fig = make_subplots(\n",
    "    rows=1, cols=2,\n",
    "    subplot_titles=('Average Fare by Day of Week', 'Number of Rides by Day of Week')\n",
    ")\n",
    "\n",
    "fig.add_trace(\n",
    "    go.Bar(x=weekly_stats.index, y=weekly_stats['Avg_Fare'],\n",
    "           name='Avg Fare', marker_color='skyblue'),\n",
    "    row=1, col=1\n",
    ")\n",
    "\n",
    "fig.add_trace(\n",
    "    go.Bar(x=weekly_stats.index, y=weekly_stats['Ride_Count'],\n",
    "           name='Ride Count', marker_color='lightcoral'),\n",
    "    row=1, col=2\n",
    ")\n",
    "\n",
    "fig.update_layout(height=400, title_text=\"Weekly Patterns\")\n",
    "fig.show()"
   ]
  },
  {
   "cell_type": "markdown",
   "id": "41619440",
   "metadata": {},
   "source": [
    "## 5. Fare Analysis <a id=\"fare-analysis\"></a>"
   ]
  },
  {
   "cell_type": "code",
   "execution_count": null,
   "id": "633176f5",
   "metadata": {},
   "outputs": [],
   "source": [
    "# Peak vs Off-peak analysis\n",
    "peak_stats = df.groupby('is_peak').agg({\n",
    "    'fare_amount': ['mean', 'median', 'count'],\n",
    "    'passenger_count': 'mean',\n",
    "    'distance': 'mean'\n",
    "}).round(2)\n",
    "\n",
    "peak_stats.columns = ['Avg_Fare', 'Median_Fare', 'Ride_Count', 'Avg_Passengers', 'Avg_Distance']\n",
    "print(\"Peak vs Off-Peak Analysis:\")\n",
    "print(\"=\" * 40)\n",
    "print(peak_stats)\n",
    "\n",
    "# Interactive comparison\n",
    "fig = px.bar(peak_stats.reset_index(), x='is_peak', y=['Avg_Fare', 'Median_Fare'],\n",
    "             title='Peak vs Off-Peak Fare Comparison',\n",
    "             barmode='group')\n",
    "fig.show()"
   ]
  },
  {
   "cell_type": "code",
   "execution_count": null,
   "id": "08bb86b1",
   "metadata": {},
   "outputs": [],
   "source": [
    "# Passenger count analysis\n",
    "passenger_stats = df.groupby('passenger_count').agg({\n",
    "    'fare_amount': ['mean', 'count'],\n",
    "    'distance': 'mean'\n",
    "}).round(2)\n",
    "\n",
    "passenger_stats.columns = ['Avg_Fare', 'Ride_Count', 'Avg_Distance']\n",
    "passenger_stats = passenger_stats.reset_index()\n",
    "\n",
    "# Interactive passenger analysis\n",
    "fig = make_subplots(\n",
    "    rows=1, cols=2,\n",
    "    subplot_titles=('Average Fare by Passenger Count', 'Number of Rides by Passenger Count')\n",
    ")\n",
    "\n",
    "fig.add_trace(\n",
    "    go.Bar(x=passenger_stats['passenger_count'], y=passenger_stats['Avg_Fare'],\n",
    "           name='Avg Fare', marker_color='blue'),\n",
    "    row=1, col=1\n",
    ")\n",
    "\n",
    "fig.add_trace(\n",
    "    go.Bar(x=passenger_stats['passenger_count'], y=passenger_stats['Ride_Count'],\n",
    "           name='Ride Count', marker_color='green'),\n",
    "    row=1, col=2\n",
    ")\n",
    "\n",
    "fig.update_layout(height=400, title_text=\"Passenger Count Analysis\")\n",
    "fig.show()"
   ]
  },
  {
   "cell_type": "markdown",
   "id": "8d01b2c2",
   "metadata": {},
   "source": [
    "## 6. Geographic Analysis <a id=\"geo-analysis\"></a>"
   ]
  },
  {
   "cell_type": "code",
   "execution_count": null,
   "id": "15ef226e",
   "metadata": {},
   "outputs": [],
   "source": [
    "# Sample data for visualization (to avoid overplotting)\n",
    "sample_df = df.sample(n=5000, random_state=42)\n",
    "\n",
    "# Scatter plot of pickup locations colored by fare\n",
    "fig = px.scatter(sample_df, x='pickup_longitude', y='pickup_latitude',\n",
    "                 color='fare_amount', size='passenger_count',\n",
    "                 title='Pickup Locations Colored by Fare Amount',\n",
    "                 labels={'pickup_longitude': 'Longitude', \n",
    "                        'pickup_latitude': 'Latitude',\n",
    "                        'fare_amount': 'Fare ($)'},\n",
    "                 color_continuous_scale='Viridis')\n",
    "fig.show()"
   ]
  },
  {
   "cell_type": "code",
   "execution_count": null,
   "id": "08bfbeff",
   "metadata": {},
   "outputs": [],
   "source": [
    "# Distance vs Fare relationship\n",
    "fig = px.scatter(sample_df, x='distance', y='fare_amount',\n",
    "                 color='time_category', size='passenger_count',\n",
    "                 title='Distance vs Fare Relationship',\n",
    "                 labels={'distance': 'Trip Distance (degrees)', 'fare_amount': 'Fare ($)'},\n",
    "                 trendline='ols')\n",
    "fig.show()\n",
    "\n",
    "# Calculate correlation\n",
    "correlation = df['distance'].corr(df['fare_amount'])\n",
    "print(f\"Correlation between distance and fare: {correlation:.3f}\")"
   ]
  },
  {
   "cell_type": "markdown",
   "id": "9671bc99",
   "metadata": {},
   "source": [
    "## 7. Key Insights & Recommendations <a id=\"insights\"></a>"
   ]
  },
  {
   "cell_type": "code",
   "execution_count": null,
   "id": "a3384789",
   "metadata": {},
   "outputs": [],
   "source": [
    "# Calculate key metrics for insights\n",
    "total_rides = len(df)\n",
    "avg_fare = df['fare_amount'].mean()\n",
    "total_revenue = df['fare_amount'].sum()\n",
    "peak_rides = len(df[df['is_peak'] == 'Peak'])\n",
    "peak_percentage = (peak_rides / total_rides) * 100\n",
    "busiest_hour = df.groupby('hour').size().idxmax()\n",
    "highest_fare_hour = df.groupby('hour')['fare_amount'].mean().idxmax()\n",
    "most_common_passengers = df['passenger_count'].mode()[0]\n",
    "\n",
    "print(\"KEY INSIGHTS & RECOMMENDATIONS\")\n",
    "print(\"=\" * 50)\n",
    "print(f\"Total Rides Analyzed: {total_rides:,}\")\n",
    "print(f\"Average Fare: ${avg_fare:.2f}\")\n",
    "print(f\"Total Revenue: ${total_revenue:,.2f}\")\n",
    "print(f\"Peak Rides: {peak_percentage:.1f}% of total\")\n",
    "print(f\"Busiest Hour: {busiest_hour}:00\")\n",
    "print(f\"Highest Fare Hour: {highest_fare_hour}:00\")\n",
    "print(f\"Most Common Passenger Count: {most_common_passengers}\")\n",
    "\n",
    "print(\"\\nBUSINESS RECOMMENDATIONS:\")\n",
    "print(\"=\" * 30)\n",
    "print(\"1. Peak Hour Strategy: Implement dynamic pricing during 7-9 AM and 5-7 PM\")\n",
    "print(\"2. Weekend Focus: Friday shows highest demand - optimize driver allocation\")\n",
    "print(\"3. Multi-passenger Incentives: Encourage ride-sharing for cost efficiency\")\n",
    "print(\"4. Geographic Optimization: Focus on high-fare areas for premium services\")\n",
    "print(\"5. Data-driven Pricing: Use time and location data for optimal fare structure\")"
   ]
  },
  {
   "cell_type": "code",
   "execution_count": null,
   "id": "cfa4da16",
   "metadata": {},
   "outputs": [],
   "source": [
    "# Create a summary dashboard\n",
    "fig = make_subplots(\n",
    "    rows=2, cols=2,\n",
    "    subplot_titles=('Fare Distribution', 'Hourly Patterns', \n",
    "                   'Weekly Patterns', 'Peak vs Off-Peak'),\n",
    "    specs=[[{\"type\": \"histogram\"}, {\"type\": \"scatter\"}],\n",
    "           [{\"type\": \"bar\"}, {\"type\": \"bar\"}]]\n",
    ")\n",
    "\n",
    "# Fare distribution\n",
    "fig.add_trace(\n",
    "    go.Histogram(x=df['fare_amount'], nbinsx=30, name='Fare Distribution'),\n",
    "    row=1, col=1\n",
    ")\n",
    "\n",
    "# Hourly patterns\n",
    "hourly_fare = df.groupby('hour')['fare_amount'].mean()\n",
    "fig.add_trace(\n",
    "    go.Scatter(x=hourly_fare.index, y=hourly_fare.values,\n",
    "              mode='lines+markers', name='Hourly Avg Fare'),\n",
    "    row=1, col=2\n",
    ")\n",
    "\n",
    "# Weekly patterns\n",
    "weekly_rides = df.groupby('weekday').size().reindex(weekday_order)\n",
    "fig.add_trace(\n",
    "    go.Bar(x=weekly_rides.index, y=weekly_rides.values, name='Weekly Rides'),\n",
    "    row=2, col=1\n",
    ")\n",
    "\n",
    "# Peak vs Off-peak\n",
    "peak_comparison = df.groupby('is_peak')['fare_amount'].mean()\n",
    "fig.add_trace(\n",
    "    go.Bar(x=peak_comparison.index, y=peak_comparison.values, name='Peak Analysis'),\n",
    "    row=2, col=2\n",
    ")\n",
    "\n",
    "fig.update_layout(height=600, title_text=\"Uber Fare Analysis Summary Dashboard\", showlegend=False)\n",
    "fig.show()"
   ]
  },
  {
   "cell_type": "markdown",
   "id": "fafd740e",
   "metadata": {},
   "source": [
    "## Conclusion\n",
    "\n",
    "This interactive analysis has revealed several key insights about Uber fare patterns:\n",
    "\n",
    "- **Time-based Patterns**: Clear peak and off-peak periods with distinct fare patterns\n",
    "- **Weekly Trends**: Friday shows the highest demand for rides\n",
    "- **Fare Distribution**: Most rides fall within the $5-15 range\n",
    "- **Geographic Insights**: Location significantly impacts fare amounts\n",
    "- **Passenger Patterns**: Single passenger rides dominate the dataset\n",
    "\n",
    "These insights can guide business decisions for pricing strategies, resource allocation, and service optimization."
   ]
  }
 ],
 "metadata": {
  "kernelspec": {
   "display_name": "Python 3",
   "language": "python",
   "name": "python3"
  },
  "language_info": {
   "codemirror_mode": {
    "name": "ipython",
    "version": 3
   },
   "file_extension": ".py",
   "mimetype": "text/x-python",
   "name": "python",
   "nbconvert_exporter": "python",
   "pygments_lexer": "ipython3",
   "version": "3.13.3"
  }
 },
 "nbformat": 4,
 "nbformat_minor": 5
}
